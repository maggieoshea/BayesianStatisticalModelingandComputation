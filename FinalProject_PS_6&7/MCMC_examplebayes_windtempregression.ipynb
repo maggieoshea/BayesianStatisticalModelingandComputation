{
 "cells": [
  {
   "cell_type": "markdown",
   "id": "7e01c102-72ed-45b9-b1fd-d63d024d6bd1",
   "metadata": {},
   "source": [
    "## Authorship & Copyright\n",
    "\n",
    "**Author:** Maggie O'Shea\n",
    "\n",
    "**Script Information** \n",
    "  - filename: MCMC_examplebayes_windtempregression.ipynb\n",
    "  - Written on Python Python 3.8.3\n",
    "\n",
    "**Copyright**\n",
    "  - Copyright by the author\n",
    "  - distributed under the GNU general public license: https://www.gnu.org/licenses/gpl.html\n",
    "  - no warranty (see license details at the link above)\n",
    "\n",
    "Written for Course: Bayesian Statistical Modeling & Computation with Professor Klaus Keller at Dartmouth College\n",
    "Final Project\n",
    "\n",
    "contact: margaret.oshea.gr@dartmouth.edu\n"
   ]
  },
  {
   "cell_type": "markdown",
   "id": "d5880661-40af-4d7c-97ac-4e67ed25ac8a",
   "metadata": {},
   "source": [
    "**Sources**:\n",
    "  - https://stackoverflow.com/questions/14058340/adding-noise-to-a-signal-in-python\n",
    "  - https://realpython.com/linear-regression-in-python/\n",
    "  - https://realpython.com/linear-regression-in-python/#simple-linear-regression \n",
    "  - https://www.pymc.io/projects/docs/en/latest/learn/core_notebooks/pymc_overview.html\n",
    "  - https://stackoverflow.com/questions/71296986/how-to-draw-the-probability-density-function-pdf-plot-in-python\n",
    "  - https://www.pymc.io/projects/docs/en/v5.9.2/api/distributions/generated/pymc.Uniform.html\n",
    "  - https://www.pymc.io/projects/docs/en/stable/api/generated/pymc.sample.html\n",
    "  - https://python.arviz.org/en/latest/api/generated/arviz.InferenceData.html#arviz.InferenceData\n",
    "  - https://stackoverflow.com/questions/66996810/im-having-an-issue-with-greek-letters-in-jupyter-markdown-ideas-on-a-fix\n",
    "  - https://python.arviz.org/en/v0.20.0/getting_started/WorkingWithInferenceData.html\n",
    "  - https://discourse.pymc.io/t/overlapping-graphs-of-az-plot-trace/15117/2\n",
    "  - https://stackoverflow.com/questions/67880031/how-to-change-bars-outline-width-in-a-displot\n",
    "  - https://seaborn.pydata.org/generated/seaborn.histplot.html\n",
    "  - https://www.pymc.io/projects/docs/en/v5.7.0/api/generated/pymc.Deterministic.html\n",
    "  - https://stackoverflow.com/questions/61969968/understanding-the-parameters-of-pymc3-package\n",
    "  - https://stackoverflow.com/questions/2176424/hiding-axis-text-in-matplotlib-plots\n",
    "  - https://www.geeksforgeeks.org/changing-the-tick-frequency-on-x-or-y-axis-in-matplotlib/?ref=ml_lbp\n",
    "  - https://discourse.pymc.io/t/there-were-divergences-after-tuning-increase-target-accept-or-reparameterize-the-number-of-effective-samples-is-smaller-than-10-for-some-parameters/8317/6\n",
    "    -https://github.com/vincentarelbundock/Rdatasets/blob/master/csv/datasets/airquality.csv\n",
    "  - Lobell D., & Tsiang, M. \"EESS 260 Class Notes\" Advanced Statistical Methods for Earth System Analysis. (2012). \n",
    "  - Weeding, J. & Greenwood, M. \"A Bayesian Approach to Modeling Measurement Errors.\" (2014).\n"
   ]
  },
  {
   "cell_type": "markdown",
   "id": "176afc85-9902-4c9d-b518-c4a3e21d96fa",
   "metadata": {},
   "source": [
    "# Purpose: \n",
    "The purpose of this is to run a bayesian statistical model correcting for measurement error informed by Weeding & Greenwood's description (instructions) in Weeding & Greenwood 2014.\n",
    "\n",
    "The sample simple linear regression chosen is based on an example for testing SIMEX, simulation approach, to modeling measurement error in Lobell & Tsiang 2012 \"Class Notes.\" \n",
    "\n",
    "The steps include imported the packages, cleaning the data, running the simple regressions to get the true beta and biased beta, and finally running a MCMC model based on Weeding & Greenwood's description of correcting for measurement error. The final step is plotting the resulting posterior distribution for beta. "
   ]
  },
  {
   "cell_type": "markdown",
   "id": "2acb716f-dbfe-46f2-a761-536b05ba2631",
   "metadata": {},
   "source": [
    "## Import Packages"
   ]
  },
  {
   "cell_type": "code",
   "execution_count": 4,
   "id": "6941366e-bdda-4783-8317-594337b90619",
   "metadata": {},
   "outputs": [
    {
     "name": "stderr",
     "output_type": "stream",
     "text": [
      "The version of PyMC you are using is very outdated.\n",
      "\n",
      "Please upgrade to the latest version of PyMC https://www.pymc.io/projects/docs/en/stable/installation.html\n",
      "\n",
      "Also notice that PyMC3 has been renamed to PyMC.\n",
      "/dartfs-hpc/rc/home/5/f006z55/.conda/envs/mo12124/lib/python3.8/site-packages/google/colab/data_table.py:30: UserWarning: IPython.utils.traitlets has moved to a top-level traitlets package.\n",
      "  from IPython.utils import traitlets as _traitlets\n"
     ]
    }
   ],
   "source": [
    "import pymc3 as pm\n",
    "import numpy as np\n",
    "import pandas as pd\n",
    "import matplotlib.pyplot as plt\n",
    "import os\n",
    "import arviz as az\n",
    "import xarray as xr\n",
    "import seaborn as sns\n",
    "import geopandas as gpd\n",
    "from scipy.stats import norm\n",
    "import random\n",
    "from sklearn.linear_model import LinearRegression\n",
    "from sklearn.utils import resample"
   ]
  },
  {
   "cell_type": "markdown",
   "id": "863e2d58-c1c7-4140-aad4-fe2484cb0423",
   "metadata": {},
   "source": [
    "## Set working directory"
   ]
  },
  {
   "cell_type": "code",
   "execution_count": 5,
   "id": "2e78d6a7-e59e-496a-b7fe-2aaa6f75c2ac",
   "metadata": {},
   "outputs": [],
   "source": [
    "os.chdir(\"/dartfs-hpc/rc/lab/C/CMIG/moshea/Projects/BayesianStats_FinalProject\")"
   ]
  },
  {
   "cell_type": "code",
   "execution_count": 37,
   "id": "d2a3ef8e-fdd1-4e2b-bef9-90fdc54cf87d",
   "metadata": {},
   "outputs": [],
   "source": [
    "random.seed(4)"
   ]
  },
  {
   "cell_type": "markdown",
   "id": "8f93b63b-4cec-480a-beec-d5d3b32defad",
   "metadata": {},
   "source": [
    "## Read in air quality data \n",
    "Example regression idea from Lobell & Tsiang 2012. \n",
    "\n",
    "See file: downloadairqualitydata.R in folder"
   ]
  },
  {
   "cell_type": "code",
   "execution_count": 38,
   "id": "202f9a8e-1a28-4659-95d7-32f415c9a10c",
   "metadata": {},
   "outputs": [],
   "source": [
    "aq = pd.read_csv('./data/airquality_data.csv')  \n",
    "#aq.head()"
   ]
  },
  {
   "cell_type": "markdown",
   "id": "6295a1e7-d421-4b4a-9f79-20bdde3c8cbc",
   "metadata": {},
   "source": [
    "## Clean Data"
   ]
  },
  {
   "cell_type": "markdown",
   "id": "ec43d9c0-3920-43d2-acc7-b064819ae042",
   "metadata": {},
   "source": [
    "**Drop NA & Add Measurement Error (ME) to explanatory variable (Temp)**"
   ]
  },
  {
   "cell_type": "code",
   "execution_count": 39,
   "id": "a552533b-55f9-4147-aa8e-8df2bf07eefc",
   "metadata": {},
   "outputs": [],
   "source": [
    "aq_nona = aq.dropna(subset=['Wind', 'Temp'])\n",
    "\n",
    "noise = np.random.normal(-10,10,len(aq_nona['Temp']))\n",
    "aq_nona['temp_w_ME'] = aq_nona['Temp']+noise"
   ]
  },
  {
   "cell_type": "markdown",
   "id": "9d7d40c0-ffa9-425c-8959-943b7243c0e7",
   "metadata": {},
   "source": [
    "**Calculate Anomalies & Get data into arrays**"
   ]
  },
  {
   "cell_type": "code",
   "execution_count": 40,
   "id": "d90713d6-f1a3-4534-af8e-e0f3a5c60dc1",
   "metadata": {},
   "outputs": [],
   "source": [
    "# get just variables\n",
    "wind_data = aq_nona['Wind'].values.reshape((-1, 1))\n",
    "aq_nona['temp_anom'] = aq_nona['Temp'] - aq_nona['Temp'].mean()\n",
    "aq_nona['temp_w_me_anom'] = aq_nona['temp_w_ME'] - aq_nona['temp_w_ME'].mean()\n",
    "temp_data = aq_nona['Temp'].values.reshape((-1, 1))\n",
    "temp_anom_data = aq_nona['temp_anom'].values.reshape((-1, 1))\n",
    "temp_w_me_anom = aq_nona['temp_w_me_anom'].values.reshape((-1, 1))\n",
    "temp_w_me = aq_nona['temp_w_ME'].values.reshape((-1, 1))"
   ]
  },
  {
   "cell_type": "code",
   "execution_count": 41,
   "id": "a4e8f691-0b38-406d-8a23-b49465e6adb0",
   "metadata": {},
   "outputs": [
    {
     "name": "stdout",
     "output_type": "stream",
     "text": [
      "77.88235294117646\n",
      "67.23647582548692\n"
     ]
    }
   ],
   "source": [
    "print(temp_data.mean())\n",
    "print(temp_w_me.mean())"
   ]
  },
  {
   "cell_type": "markdown",
   "id": "7b6c4582-e9d2-4c7d-acdb-ad7201a42c53",
   "metadata": {},
   "source": [
    "## Run Regressions for Beta Comparisons"
   ]
  },
  {
   "cell_type": "markdown",
   "id": "79248424-4b10-4c6f-ba15-8b2d29b2b988",
   "metadata": {},
   "source": [
    "The \"true\" regression model is: \n",
    "\n",
    "*Wind = Beta0 + Beta-x * Temp + epsilon*\n",
    "\n",
    "The biased regression with measurement error model is: \n",
    "\n",
    "*Wind = Beta0 + Beta-x * (Temp+measurement_error) + epsilon*\n"
   ]
  },
  {
   "cell_type": "markdown",
   "id": "776b70cf-93a2-4fc9-82cb-ee58173973e2",
   "metadata": {},
   "source": [
    "**True Model**"
   ]
  },
  {
   "cell_type": "code",
   "execution_count": 42,
   "id": "e004a4d9-4213-4b0f-820d-34367f4f9593",
   "metadata": {},
   "outputs": [
    {
     "name": "stdout",
     "output_type": "stream",
     "text": [
      "intercept: [9.95751634]\n",
      "slope: [[-0.17046444]]\n"
     ]
    }
   ],
   "source": [
    "model = LinearRegression().fit(temp_anom_data, wind_data)\n",
    "print(f\"intercept: {model.intercept_}\")\n",
    "print(f\"slope: {model.coef_}\")\n",
    "beta0_truth = model.intercept_\n",
    "betax_truth = model.coef_\n",
    "beta0_truth = beta0_truth[0]\n",
    "betax_truth = betax_truth[0,0]"
   ]
  },
  {
   "cell_type": "markdown",
   "id": "276df8e4-9b94-48b4-90a1-52720f77b627",
   "metadata": {},
   "source": [
    "**Model with Measurement Error**"
   ]
  },
  {
   "cell_type": "code",
   "execution_count": 43,
   "id": "b7ad5671-48bc-434e-915c-0e34433edf97",
   "metadata": {},
   "outputs": [
    {
     "name": "stdout",
     "output_type": "stream",
     "text": [
      "intercept: [9.95751634]\n",
      "slope: [[-0.07106197]]\n"
     ]
    }
   ],
   "source": [
    "model = LinearRegression().fit(temp_w_me_anom, wind_data)\n",
    "print(f\"intercept: {model.intercept_}\")\n",
    "print(f\"slope: {model.coef_}\")"
   ]
  },
  {
   "cell_type": "code",
   "execution_count": 44,
   "id": "6aea835f-b132-436e-b2e1-0dcc3f11026e",
   "metadata": {},
   "outputs": [],
   "source": [
    "beta0_original = model.intercept_\n",
    "betax_original = model.coef_\n",
    "beta0_original = beta0_original[0]\n",
    "betax_original = betax_original[0,0]"
   ]
  },
  {
   "cell_type": "markdown",
   "id": "7aec9d4d-f2de-45c2-bce8-201fdf6e4028",
   "metadata": {},
   "source": [
    "## PyMC model based on Weeding & Greenwood\n",
    "3 model components: Outcome Model, Measurement Model, & Latent Model\n",
    " \n",
    "\"**The outcome model** is a model for the outcomes that you would obtain if\n",
    "measurement error was not present \n",
    "Yi ∼ N(β0 + β1Xi, σ2)\n",
    "\n",
    "**The measurement model** is a model for the mismeasured variable given the true variable\n",
    "and is\n",
    "Wi|Xi ∼ N(Xi, σ2u)\n",
    "\n",
    "**The latent variable model** is a model for the true unobserved variable (Xi) and, *by centering\n",
    "the observed variable*, is\n",
    "Xi ∼ N(0, σ2x). \"\n",
    "(Weeding & Greenwood 2014, p1446)\n",
    "\n",
    "\n",
    "\n",
    "Notes for model writing: \n",
    "  - Because the latent variable model estimates true T which is then used in the outcome model & measurement model, that has to be written first. \n",
    "  - The temperature data has to be in anomaly form because the mean of true T has to be 0"
   ]
  },
  {
   "cell_type": "code",
   "execution_count": 45,
   "id": "e8aeaf3f-cf7b-43ac-ba41-8e7c98a7df45",
   "metadata": {},
   "outputs": [],
   "source": [
    "# set another random seed for this model \n",
    "random.seed(222)"
   ]
  },
  {
   "cell_type": "markdown",
   "id": "79b697a6-92a2-4ef5-8bfb-b2389e9ad17c",
   "metadata": {},
   "source": [
    "**NOTE**: This can take quite a long time to run (5-20 minutes). "
   ]
  },
  {
   "cell_type": "code",
   "execution_count": 46,
   "id": "a0246523-0b60-406d-9b6a-044ed81bf79a",
   "metadata": {},
   "outputs": [
    {
     "name": "stderr",
     "output_type": "stream",
     "text": [
      "The version of PyMC you are using is very outdated.\n",
      "\n",
      "Please upgrade to the latest version of PyMC https://www.pymc.io/projects/docs/en/stable/installation.html\n",
      "\n",
      "Also notice that PyMC3 has been renamed to PyMC.\n",
      "Auto-assigning NUTS sampler...\n",
      "Initializing NUTS using jitter+adapt_diag...\n",
      "Multiprocess sampling (3 chains in 4 jobs)\n",
      "NUTS: [sigma_error, sigma_outcome, betax, beta0, trueT, sigma_trueT]\n"
     ]
    },
    {
     "data": {
      "text/html": [
       "\n",
       "<style>\n",
       "    /* Turns off some styling */\n",
       "    progress {\n",
       "        /* gets rid of default border in Firefox and Opera. */\n",
       "        border: none;\n",
       "        /* Needs to be in here for Safari polyfill so background images work as expected. */\n",
       "        background-size: auto;\n",
       "    }\n",
       "    progress:not([value]), progress:not([value])::-webkit-progress-bar {\n",
       "        background: repeating-linear-gradient(45deg, #7e7e7e, #7e7e7e 10px, #5c5c5c 10px, #5c5c5c 20px);\n",
       "    }\n",
       "    .progress-bar-interrupted, .progress-bar-interrupted::-webkit-progress-bar {\n",
       "        background: #F44336;\n",
       "    }\n",
       "</style>\n"
      ],
      "text/plain": [
       "<IPython.core.display.HTML object>"
      ]
     },
     "metadata": {},
     "output_type": "display_data"
    },
    {
     "data": {
      "text/html": [
       "\n",
       "    <div>\n",
       "      <progress value='58500' class='' max='58500' style='width:300px; height:20px; vertical-align: middle;'></progress>\n",
       "      100.00% [58500/58500 02:22&lt;00:00 Sampling 3 chains, 18 divergences]\n",
       "    </div>\n",
       "    "
      ],
      "text/plain": [
       "<IPython.core.display.HTML object>"
      ]
     },
     "metadata": {},
     "output_type": "display_data"
    },
    {
     "name": "stderr",
     "output_type": "stream",
     "text": [
      "Sampling 3 chains for 4_500 tune and 15_000 draw iterations (13_500 + 45_000 draws total) took 144 seconds.\n",
      "There was 1 divergence after tuning. Increase `target_accept` or reparameterize.\n",
      "The acceptance probability does not match the target. It is 0.7064804960157446, but should be close to 0.8. Try to increase the number of tuning steps.\n",
      "There were 17 divergences after tuning. Increase `target_accept` or reparameterize.\n",
      "The rhat statistic is larger than 1.05 for some parameters. This indicates slight problems during sampling.\n",
      "The estimated number of effective samples is smaller than 200 for some parameters.\n"
     ]
    }
   ],
   "source": [
    "with pm.Model() as mcmc_model:\n",
    "    \n",
    "   \n",
    "    ## Latent Variable Model ##\n",
    "    # half normal because has to be positive for all sigmas + uninformative sigma because unknown\n",
    "    sigma_trueT = pm.HalfNormal('sigma_trueT', sigma=50) \n",
    "    true_t = pm.Normal('trueT', mu = 0, sigma=sigma_trueT, shape=len(temp_w_me_anom))\n",
    "    \n",
    "    ## Outcome Model ## \n",
    "    # beta parameters priors are based on results from regression with Measurement error\n",
    "    beta0=pm.Normal('beta0', mu=beta0_original, sigma=10)\n",
    "    betax = pm.Normal('betax', mu=betax_original, sigma=10)\n",
    "    sigma_wind = pm.HalfNormal('sigma_outcome', sigma=10)\n",
    "    wind = pm.Normal('wind', beta0+(betax*true_t), sigma=10, observed=wind_data) \n",
    "    \n",
    "    ## Measurement Model ## \n",
    "    sigma_measurementerror = pm.HalfNormal('sigma_error', sigma=20) \n",
    "    observed_temp = pm.Normal('observed_T', mu=true_t, sigma=sigma_measurementerror, observed=temp_w_me_anom)\n",
    "    \n",
    "    result = pm.sample(15000, tune=4500, chains=3, return_inferencedata=True)\n"
   ]
  },
  {
   "cell_type": "code",
   "execution_count": 32,
   "id": "603786ee-8982-4864-ad86-a72f60b0b780",
   "metadata": {},
   "outputs": [],
   "source": [
    "## Run to see plots for each parameter ##\n",
    "# Note - takes a while to load \n",
    "#posterior = result.posterior\n",
    "#axes = az.plot_trace(result)\n",
    "#fig = plt.gcf()\n",
    "#fig.tight_layout()\n",
    "#plt.show()"
   ]
  },
  {
   "cell_type": "code",
   "execution_count": 47,
   "id": "eeeb7289-881f-4607-9572-4c17693f2c99",
   "metadata": {},
   "outputs": [
    {
     "data": {
      "image/png": "[encoded data removed]",
      "text/plain": [
       "<Figure size 864x432 with 1 Axes>"
      ]
     },
     "metadata": {
      "needs_background": "light"
     },
     "output_type": "display_data"
    }
   ],
   "source": [
    "# Look at only the variable of interest - Beta-x! \n",
    "posterior = result.posterior\n",
    "\n",
    "cmap = plt.cm.get_cmap('Reds')\n",
    "color_mapping = {\n",
    "    3: cmap(0.2),\n",
    "    \n",
    "    2: cmap(0.45),\n",
    "    1: cmap(0.7),\n",
    "    0: cmap(0.99)}\n",
    "\n",
    "\n",
    "\n",
    "beta_x = posterior['betax']\n",
    "mean_betax = posterior['betax'].values.mean()\n",
    "mean_betax_rounded = round(mean_betax, 2)\n",
    "betax_original_rounded = round(betax_original, 2)\n",
    "betax_truth_rounded = round(betax_truth, 2)\n",
    "\n",
    "plt.figure(figsize=(12, 6))\n",
    "\n",
    "for chain in beta_x.chain.values:\n",
    "    \n",
    "    chain_data = beta_x.isel(chain=chain)\n",
    "    sns.histplot(chain_data, stat = \"probability\",\n",
    "                 color=color_mapping[chain], alpha=0.4, linewidth = 0)\n",
    "\n",
    "# For plot with values of means in the legend\n",
    "plt.axvline(x= betax_original, label=f'W/ Measurement Error: {betax_original_rounded}', color='black', linewidth=2)\n",
    "plt.axvline(x=betax_truth, label=f'Truth: {betax_truth_rounded}', color='red', linewidth=2)\n",
    "plt.axvline(x=mean_betax, label=f'Bayes Estimate:{mean_betax_rounded}', color='blue', linewidth=2)\n",
    "\n",
    "# For plot with no values in the legend\n",
    "#plt.axvline(x= betax_original, label=f'W/ Measurement Error', color='black', linewidth=2)\n",
    "#plt.axvline(x=betax_truth, label=f'Truth', color='red', linewidth=2)\n",
    "#plt.axvline(x=mean_betax, label=f'Bayes Estimate', color='blue', linewidth=2)\n",
    "\n",
    "plt.title(r'Updated $\\beta$', fontsize=20)\n",
    "plt.xlabel(r'$\\beta$ Estimate', fontsize=18)\n",
    "plt.ylabel('Probability Density', fontsize=18)\n",
    "plt.tick_params(axis='both', which='major', labelsize=15)\n",
    "plt.legend(title=r\"$\\beta$\", fontsize=12, title_fontsize=12)\n",
    "\n",
    "#plt.savefig(\"./figures/betahist_windtemp_novaluesinlegend_v2.png\", dpi=400)\n",
    "plt.show()"
   ]
  },
  {
   "cell_type": "code",
   "execution_count": 48,
   "id": "5405081f-da4a-4016-9de6-36eb2f192d5b",
   "metadata": {},
   "outputs": [
    {
     "data": {
      "text/plain": [
       "-0.193154894417831"
      ]
     },
     "execution_count": 48,
     "metadata": {},
     "output_type": "execute_result"
    }
   ],
   "source": [
    "mean_betax = posterior['betax'].values.mean()\n",
    "mean_betax"
   ]
  },
  {
   "cell_type": "code",
   "execution_count": null,
   "id": "13a7f370-b6ae-4b11-a544-be18360194ed",
   "metadata": {},
   "outputs": [],
   "source": []
  }
 ],
 "metadata": {
  "kernelspec": {
   "display_name": "Python mo12124",
   "language": "python",
   "name": "mo12124"
  },
  "language_info": {
   "codemirror_mode": {
    "name": "ipython",
    "version": 3
   },
   "file_extension": ".py",
   "mimetype": "text/x-python",
   "name": "python",
   "nbconvert_exporter": "python",
   "pygments_lexer": "ipython3",
   "version": "3.8.2"
  }
 },
 "nbformat": 4,
 "nbformat_minor": 5
}
