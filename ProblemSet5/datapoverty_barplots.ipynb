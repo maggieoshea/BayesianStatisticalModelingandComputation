{
 "cells": [
  {
   "cell_type": "markdown",
   "metadata": {},
   "source": [
    "## Purpose: \n",
    "The purpose of this script is to plot the station density by income group as a background plot to explain the issue of geophysical data poverty. \n",
    "\n",
    "It includes some data-cleaning at the beginning of the script and then a bar plot. "
   ]
  },
  {
   "cell_type": "code",
   "execution_count": 1,
   "metadata": {},
   "outputs": [],
   "source": [
    "import os\n",
    "import pandas as pd\n",
    "import geopandas as gpd\n",
    "import numpy as np\n",
    "import xarray as xr\n",
    "\n",
    "from shapely.geometry import Point\n",
    "\n",
    "# interactive plotting stuff \n",
    "import matplotlib as mpl\n",
    "import matplotlib.pyplot as plt\n",
    "import matplotlib.cm as cm\n",
    "from matplotlib import colors\n",
    "import matplotlib.gridspec as gridspec\n",
    "from matplotlib.colors import ListedColormap\n",
    "\n",
    "import seaborn as sns\n",
    "#import matplotlib.dates as mdates\n",
    "%matplotlib inline\n",
    "plt.rcParams['figure.figsize'] = 12, 6\n",
    "#%config InlineBackend.figure_format = 'retina'\n",
    "\n",
    "import rasterio\n",
    "from rasterio.features import geometry_mask\n",
    "\n",
    "import cartopy\n",
    "import cartopy.crs as ccrs\n",
    "from cartopy.util import add_cyclic_point\n",
    "import cartopy.feature as cfeature\n",
    "import cartopy.io.shapereader as shpreader\n",
    "\n",
    "from datetime import datetime\n"
   ]
  },
  {
   "cell_type": "code",
   "execution_count": 78,
   "metadata": {},
   "outputs": [],
   "source": [
    "# Set working directory\n",
    "os.chdir(\"/dartfs-hpc/rc/lab/C/CMIG/moshea/Projects/DataPoverty\")\n",
    "\n",
    "# set export directory (where to export figures)\n",
    "export_dir = \"/dartfs-hpc/rc/lab/C/CMIG/moshea/Projects/BayesianStats_FinalProject/figures/\""
   ]
  },
  {
   "cell_type": "markdown",
   "metadata": {},
   "source": [
    "## Data Sources\n",
    "GHCN data 'ghcnd-inventory.txt' can be found here: https://www.ncei.noaa.gov/pub/data/ghcn/daily/ghcnd-inventory.txt\n",
    "\n",
    "Country Shapefiles can be found here: 'https://datacatalogfiles.worldbank.org/ddh-published/0038272/DR0046659/wb_countries_admin0_10m.zip?versionId=2023-11-27T15:22:14.9386101Z'\n",
    "\n",
    "Country Area file can be found here:\"https://api.worldbank.org/v2/en/indicator/AG.LND.TOTL.K2?downloadformat=csv\"\n",
    "\n"
   ]
  },
  {
   "cell_type": "markdown",
   "metadata": {},
   "source": [
    "## Cleaning"
   ]
  },
  {
   "cell_type": "code",
   "execution_count": 3,
   "metadata": {},
   "outputs": [],
   "source": [
    "ghcn_dir = '/dartfs-hpc/rc/lab/C/CMIG/Data/Observations/GHCN'\n",
    "inv = pd.read_fwf(os.path.join(ghcn_dir,'ghcnd-inventory.txt'),\n",
    "                  colspecs=[(0,11),(12,20),(21,30),(31,35),(36,40),(41,45)],\n",
    "                  header=None,\n",
    "                  names=['ID','LAT','LON','VAR','START','END'])\n",
    "inv['geometry'] = inv.apply(lambda row: Point(row['LON'],row['LAT']),axis=1)\n",
    "inv = gpd.GeoDataFrame(inv)"
   ]
  },
  {
   "cell_type": "code",
   "execution_count": 4,
   "metadata": {},
   "outputs": [],
   "source": [
    "#Download WB country shapefiles\n",
    "#from io import BytesIO\n",
    "#from urllib.request import urlopen\n",
    "#from zipfile import ZipFile\n",
    "#zipurl = 'https://datacatalogfiles.worldbank.org/ddh-published/0038272/DR0046659/wb_countries_admin0_10m.zip?versionId=2023-11-27T15:22:14.9386101Z'\n",
    "#with urlopen(zipurl) as zipresp:\n",
    "#    with ZipFile(BytesIO(zipresp.read())) as zfile:\n",
    "#        zfile.extractall('../data/place_shapefiles')"
   ]
  },
  {
   "cell_type": "code",
   "execution_count": 9,
   "metadata": {},
   "outputs": [],
   "source": [
    "countries = gpd.read_file('./OG_folders/data/place_shapefiles/WB_countries_Admin0_10m/WB_countries_Admin0_10m.shp')"
   ]
  },
  {
   "cell_type": "markdown",
   "metadata": {},
   "source": [
    "Create DataFrame of the number of stations available in a given country per year"
   ]
  },
  {
   "cell_type": "code",
   "execution_count": 12,
   "metadata": {},
   "outputs": [],
   "source": [
    "# Creating a list of years ranging from the minimum start year to the maximum end year\n",
    "all_years = list(range(inv['START'].min(), inv['END'].max() + 1))\n",
    "\n",
    "# Creating a DataFrame to store the results\n",
    "result = pd.DataFrame(columns=['FIPS_10_'] + all_years)\n",
    "\n",
    "# Grouping by country and calculating the number of stations per year\n",
    "for country, group in inv.groupby('FIPS_10_'):\n",
    "    yearly_counts = []\n",
    "    for year in all_years:\n",
    "        count = ((group['START'] <= year) & (group['END'] >= year)).sum()\n",
    "        yearly_counts.append(count)\n",
    "    result.loc[len(result)] = [country] + yearly_counts\n"
   ]
  },
  {
   "cell_type": "code",
   "execution_count": 68,
   "metadata": {},
   "outputs": [],
   "source": [
    "stations_per_year = result.melt(id_vars='FIPS_10_', var_name='YEAR', value_name='number_of_stations')"
   ]
  },
  {
   "cell_type": "code",
   "execution_count": 15,
   "metadata": {},
   "outputs": [],
   "source": [
    "stations2022 = countries_stations_inner[countries_stations_inner.YEAR==2022].copy(deep=True)"
   ]
  },
  {
   "cell_type": "code",
   "execution_count": 17,
   "metadata": {},
   "outputs": [],
   "source": [
    "# Define conditions and values for the new column\n",
    "\n",
    "quantile25 = stations2022['number_of_stations'].quantile(0.25)\n",
    "quantile50 = stations2022['number_of_stations'].quantile(0.5)\n",
    "quantile75 = stations2022['number_of_stations'].quantile(0.75)\n",
    "\n",
    "\n",
    "conditions = [\n",
    "    (stations2022['number_of_stations'] < quantile25),\n",
    "    (stations2022['number_of_stations'] >= quantile25) & (stations2022['number_of_stations'] < quantile50),\n",
    "    (stations2022['number_of_stations'] >= quantile50) & (stations2022['number_of_stations'] < quantile75),\n",
    "    (stations2022['number_of_stations'] >= quantile75)\n",
    "]\n",
    "values = ['Low', 'Medium', 'Medium_High', 'High']\n",
    "\n",
    "# Use numpy.select to assign values based on conditions\n",
    "stations2022['Station_Category'] = np.select(conditions, values, default='Undefined')\n",
    "\n",
    "#stations2022.head()"
   ]
  },
  {
   "cell_type": "code",
   "execution_count": 18,
   "metadata": {},
   "outputs": [],
   "source": [
    "# Fixing the names of high medium low income so OECD and non-OECD are grouped together\n",
    "conditions_income = [\n",
    "    (stations2022['INCOME_GRP'] == \"1. High income: OECD\")|(stations2022['INCOME_GRP'] == \"2. High income: nonOECD\"),\n",
    "    (stations2022['INCOME_GRP'] == \"3. Upper middle income\"),\n",
    "    (stations2022['INCOME_GRP'] == \"4. Lower middle income\"),\n",
    "    (stations2022['INCOME_GRP'] == \"4. Low income\")\n",
    "]\n",
    "values_income = [\"High\", \"Upper-Middle\", \"Lower-Middle\", \"Low\"]\n",
    "\n",
    "# Use numpy.select to assign values based on conditions\n",
    "stations2022['Income_Category'] = np.select(conditions_income, values_income, default='Undefined')\n",
    "\n",
    "#stations2022.head()"
   ]
  },
  {
   "cell_type": "code",
   "execution_count": 20,
   "metadata": {},
   "outputs": [
    {
     "name": "stderr",
     "output_type": "stream",
     "text": [
      "/dartfs-hpc/rc/home/5/f006z55/.conda/envs/mo12124/lib/python3.8/site-packages/pandas/core/arraylike.py:397: RuntimeWarning: divide by zero encountered in log\n",
      "  result = getattr(ufunc, method)(*inputs, **kwargs)\n"
     ]
    }
   ],
   "source": [
    "mean_stations = stations2022.number_of_stations.mean()\n",
    "\n",
    "stations2022['diff_from2022mean'] = stations2022['number_of_stations']-mean_stations\n",
    "stations2022['log_GDP'] = np.log(stations2022['GDP_MD_EST'])"
   ]
  },
  {
   "cell_type": "code",
   "execution_count": 21,
   "metadata": {},
   "outputs": [],
   "source": [
    "stations2022.POP_YEAR.unique() #[2017, 2013, 2016, 2014, 2015]\n",
    "#stations2022.GDP_YEAR.unique() #[2016, 2015, 2014, 2013, 2010, 2012, 2003]\n",
    "stations2022.head()\n",
    "# the only overlapping year in the set\n",
    "clean_stations2022 = stations2022[(stations2022['POP_YEAR']==2016)&(stations2022.GDP_YEAR==2016)].copy(deep=True)\n",
    "clean_stations2022['gdppc'] = clean_stations2022['GDP_MD_EST']/clean_stations2022['POP_EST']"
   ]
  },
  {
   "cell_type": "markdown",
   "metadata": {},
   "source": [
    "# Look at Station Density rather than pure number of stations"
   ]
  },
  {
   "cell_type": "code",
   "execution_count": 22,
   "metadata": {},
   "outputs": [],
   "source": [
    "#Download Area df\n",
    "#from io import BytesIO\n",
    "#from urllib.request import urlopen\n",
    "#from zipfile import ZipFile\n",
    "#zipurl = \"https://api.worldbank.org/v2/en/indicator/AG.LND.TOTL.K2?downloadformat=csv\"\n",
    "#with urlopen(zipurl) as zipresp:\n",
    "#    with ZipFile(BytesIO(zipresp.read())) as zfile:\n",
    "#        zfile.extractall('../data/')"
   ]
  },
  {
   "cell_type": "code",
   "execution_count": 26,
   "metadata": {},
   "outputs": [],
   "source": [
    "country_area = pd.read_csv(\"./OG_folders/data/social_data/API_AG.LND.TOTL.K2_DS2_en_csv_v2_6298704.csv\", header=2)\n",
    "#country_area.head()"
   ]
  },
  {
   "cell_type": "code",
   "execution_count": 28,
   "metadata": {},
   "outputs": [],
   "source": [
    "# fix country names to match so the datasets can merge\n",
    "country_area.loc[country_area['Country Code'] == 'USA', ['Country Name']] = \"United States of America\"\n",
    "country_area.loc[country_area['Country Code'] == 'GMB', ['Country Name']] = \"The Gambia\"\n",
    "country_area.loc[country_area['Country Code'] == 'COG', ['Country Name']] = \"Republic of the Congo\"\n",
    "country_area.loc[country_area['Country Code'] == 'VNM', ['Country Name']] = \"Vietnam\"\n",
    "country_area.loc[country_area['Country Code'] == 'CIV', ['Country Name']] = \"Ivory Coast\"\n",
    "country_area.loc[country_area['Country Code'] == 'SWZ', ['Country Name']] = \"eSwatini\"\n",
    "country_area.loc[country_area['Country Code'] == 'BRN', ['Country Name']] = \"Brunei\"\n",
    "country_area.loc[country_area['Country Code'] == 'IRN', ['Country Name']] = \"Iran\"\n",
    "country_area.loc[country_area['Country Code'] == 'PRK', ['Country Name']] = \"South Korea\"\n",
    "country_area.loc[country_area['Country Code'] == 'EGY', ['Country Name']] = \"Egypt\"\n",
    "country_area.loc[country_area['Country Code'] == 'BHS', ['Country Name']] = \"The Bahamas\"\n"
   ]
  },
  {
   "cell_type": "code",
   "execution_count": 40,
   "metadata": {},
   "outputs": [],
   "source": [
    "stations2021 = countries_stations_inner[countries_stations_inner.YEAR==2021].copy(deep=True)\n",
    "\n",
    "country_area2021 = country_area[['Country Name', \"Country Code\", \"2021\"]].copy(deep=True)\n",
    "country_area2021 = country_area2021.rename(columns={\"2021\": 'LandArea_sqkm', \"Country Name\":'NAME_EN'})\n",
    "merge_area_stations = pd.merge(stations2021, country_area2021, on='NAME_EN', how=\"left\")\n"
   ]
  },
  {
   "cell_type": "code",
   "execution_count": 43,
   "metadata": {},
   "outputs": [],
   "source": [
    "#merge_area_stations_v2"
   ]
  },
  {
   "cell_type": "code",
   "execution_count": 41,
   "metadata": {},
   "outputs": [],
   "source": [
    "merge_area_stations_v2 = merge_area_stations[merge_area_stations.GDP_MD_EST!=0].copy(deep=True)\n",
    "merge_area_stations_v2['log_GDP'] = np.log(merge_area_stations_v2['GDP_MD_EST'])"
   ]
  },
  {
   "cell_type": "code",
   "execution_count": 44,
   "metadata": {},
   "outputs": [],
   "source": [
    "merge_area_stations_v2['station_density'] = merge_area_stations_v2['number_of_stations']/(merge_area_stations_v2['LandArea_sqkm']/1000)"
   ]
  },
  {
   "cell_type": "code",
   "execution_count": 64,
   "metadata": {},
   "outputs": [],
   "source": [
    "mean_station_density = merge_area_stations_v2.groupby('INCOME_GRP').mean('station_density').reset_index()"
   ]
  },
  {
   "cell_type": "code",
   "execution_count": 81,
   "metadata": {},
   "outputs": [
    {
     "data": {
      "text/html": [
       "<div>\n",
       "<style scoped>\n",
       "    .dataframe tbody tr th:only-of-type {\n",
       "        vertical-align: middle;\n",
       "    }\n",
       "\n",
       "    .dataframe tbody tr th {\n",
       "        vertical-align: top;\n",
       "    }\n",
       "\n",
       "    .dataframe thead th {\n",
       "        text-align: right;\n",
       "    }\n",
       "</style>\n",
       "<table border=\"1\" class=\"dataframe\">\n",
       "  <thead>\n",
       "    <tr style=\"text-align: right;\">\n",
       "      <th></th>\n",
       "      <th>index</th>\n",
       "      <th>Income_Category_</th>\n",
       "      <th>station_density_median</th>\n",
       "      <th>station_density_mean</th>\n",
       "      <th>station_density_std</th>\n",
       "    </tr>\n",
       "  </thead>\n",
       "  <tbody>\n",
       "    <tr>\n",
       "      <th>0</th>\n",
       "      <td>0</td>\n",
       "      <td>High Income</td>\n",
       "      <td>1.088342</td>\n",
       "      <td>16.742060</td>\n",
       "      <td>68.069780</td>\n",
       "    </tr>\n",
       "    <tr>\n",
       "      <th>1</th>\n",
       "      <td>1</td>\n",
       "      <td>Low Income</td>\n",
       "      <td>0.051392</td>\n",
       "      <td>0.118346</td>\n",
       "      <td>0.166577</td>\n",
       "    </tr>\n",
       "    <tr>\n",
       "      <th>2</th>\n",
       "      <td>2</td>\n",
       "      <td>Lower-Middle Income</td>\n",
       "      <td>0.175362</td>\n",
       "      <td>5.983475</td>\n",
       "      <td>35.515538</td>\n",
       "    </tr>\n",
       "    <tr>\n",
       "      <th>3</th>\n",
       "      <td>3</td>\n",
       "      <td>Upper-Middle Income</td>\n",
       "      <td>0.181305</td>\n",
       "      <td>9.421519</td>\n",
       "      <td>41.393199</td>\n",
       "    </tr>\n",
       "  </tbody>\n",
       "</table>\n",
       "</div>"
      ],
      "text/plain": [
       "   index     Income_Category_  station_density_median  station_density_mean  \\\n",
       "0      0          High Income                1.088342             16.742060   \n",
       "1      1           Low Income                0.051392              0.118346   \n",
       "2      2  Lower-Middle Income                0.175362              5.983475   \n",
       "3      3  Upper-Middle Income                0.181305              9.421519   \n",
       "\n",
       "   station_density_std  \n",
       "0            68.069780  \n",
       "1             0.166577  \n",
       "2            35.515538  \n",
       "3            41.393199  "
      ]
     },
     "execution_count": 81,
     "metadata": {},
     "output_type": "execute_result"
    }
   ],
   "source": [
    "#Combine High Income OECD and nonOECD\n",
    "\n",
    "#conditions to combine the two high categories (non-OECD and OECD)\n",
    "conditions = [\n",
    "    (merge_area_stations_v2['INCOME_GRP'] == '1. High income: OECD')|(merge_area_stations_v2['INCOME_GRP'] == '2. High income: nonOECD'),\n",
    "    (merge_area_stations_v2['INCOME_GRP'] == '3. Upper middle income'),\n",
    "    (merge_area_stations_v2['INCOME_GRP'] == '4. Lower middle income'),\n",
    "    (merge_area_stations_v2['INCOME_GRP'] == '5. Low income')\n",
    "]\n",
    "values = ['High Income', 'Upper-Middle Income', 'Lower-Middle Income', 'Low Income']\n",
    "\n",
    "# Assign values based on conditions (above)\n",
    "merge_area_stations_v2['Income_Category'] = np.select(conditions, values, default='Undefined')\n",
    "\n",
    "agg_functions = {'station_density': ['median', 'mean','std']}\n",
    "\n",
    "# Aggregate\n",
    "mean_station_density_v2= merge_area_stations_v2.groupby(merge_area_stations_v2['Income_Category']).aggregate(agg_functions).reset_index()\n",
    "\n",
    "mean_station_density_v2.columns = ['{}_{}'.format(col[0], col[1]) for col in mean_station_density_v2.columns]\n",
    "\n",
    "# Resetting index to have 'grouping_column' as a regular column\n",
    "mean_station_density_v2.reset_index(inplace=True)\n",
    "mean_station_density_v2.head()"
   ]
  },
  {
   "cell_type": "markdown",
   "metadata": {},
   "source": [
    "## Plotting"
   ]
  },
  {
   "cell_type": "code",
   "execution_count": 82,
   "metadata": {},
   "outputs": [
    {
     "data": {
      "image/png": "[encoded data removed]",
      "text/plain": [
       "<Figure size 864x576 with 1 Axes>"
      ]
     },
     "metadata": {
      "needs_background": "light"
     },
     "output_type": "display_data"
    }
   ],
   "source": [
    "# Sort by 'mean_station_density' in descending order (high to low)\n",
    "mean_station_density_sorted = mean_station_density_v2.sort_values(by='station_density_mean', ascending=False)\n",
    "\n",
    "\n",
    "plt.figure(figsize=[12, 8])\n",
    "plt.bar(mean_station_density_sorted['Income_Category_'], (mean_station_density_sorted['station_density_mean']), color = 'darkslategrey')\n",
    "\n",
    "plt.xlabel('World Bank Income Group', fontsize=18, labelpad=20)\n",
    "plt.ylabel('Average # of GHCN Stations per $km^2$', fontsize=18, labelpad=20)\n",
    "\n",
    "plt.tick_params('both', length=10, width=2, which='major')\n",
    "\n",
    "plt.xticks(fontsize=15)\n",
    "plt.yticks(fontsize=15)\n",
    "\n",
    "plt.grid(False)\n",
    "plt.tight_layout()\n",
    "plt.savefig(f\"{export_dir}/datapovertybarplot.png\", dpi=400)\n",
    "\n",
    "plt.show()\n",
    "\n"
   ]
  },
  {
   "cell_type": "code",
   "execution_count": null,
   "metadata": {},
   "outputs": [],
   "source": []
  }
 ],
 "metadata": {
  "kernelspec": {
   "display_name": "Python mo12124",
   "language": "python",
   "name": "mo12124"
  },
  "language_info": {
   "codemirror_mode": {
    "name": "ipython",
    "version": 3
   },
   "file_extension": ".py",
   "mimetype": "text/x-python",
   "name": "python",
   "nbconvert_exporter": "python",
   "pygments_lexer": "ipython3",
   "version": "3.8.2"
  }
 },
 "nbformat": 4,
 "nbformat_minor": 2
}
